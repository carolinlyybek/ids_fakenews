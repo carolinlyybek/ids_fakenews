{
 "cells": [
  {
   "cell_type": "markdown",
   "metadata": {},
   "source": [
    "# Kaggle Fake News Detection"
   ]
  },
  {
   "cell_type": "code",
   "execution_count": 1,
   "metadata": {},
   "outputs": [
    {
     "name": "stderr",
     "output_type": "stream",
     "text": [
      "[nltk_data] Downloading package stopwords to\n",
      "[nltk_data]     C:\\Users\\Katre\\AppData\\Roaming\\nltk_data...\n",
      "[nltk_data]   Package stopwords is already up-to-date!\n",
      "[nltk_data] Downloading package punkt to\n",
      "[nltk_data]     C:\\Users\\Katre\\AppData\\Roaming\\nltk_data...\n",
      "[nltk_data]   Package punkt is already up-to-date!\n",
      "[nltk_data] Downloading package wordnet to\n",
      "[nltk_data]     C:\\Users\\Katre\\AppData\\Roaming\\nltk_data...\n",
      "[nltk_data]   Package wordnet is already up-to-date!\n"
     ]
    }
   ],
   "source": [
    "import numpy as np \n",
    "import pandas as pd\n",
    "import matplotlib.pyplot as plt\n",
    "import seaborn as sns # https://seaborn.pydata.org/\n",
    "import nltk #Natural Language Toolkit https://www.nltk.org/\n",
    "nltk.download(\"stopwords\")  #downloading stopwords\n",
    "nltk.download('punkt') #https://www.kite.com/python/docs/nltk.punkt\n",
    "nltk.download('wordnet')\n",
    "import re # regular expression libary. https://docs.python.org/3/library/re.html\n",
    "\n",
    "\n",
    "from wordcloud import WordCloud, STOPWORDS # https://www.datacamp.com/community/tutorials/wordcloud-python\n",
    "#pip install wordcloud or conda install -c conda-forge wordcloud\n"
   ]
  },
  {
   "cell_type": "markdown",
   "metadata": {},
   "source": [
    "## Imports for the project"
   ]
  },
  {
   "cell_type": "markdown",
   "metadata": {},
   "source": [
    "## Loading the data"
   ]
  },
  {
   "cell_type": "code",
   "execution_count": 2,
   "metadata": {},
   "outputs": [],
   "source": [
    "real_data = pd.read_csv('True.csv')\n",
    "fake_data = pd.read_csv('Fake.csv')\n",
    "articles= pd.read_csv('news_articles.csv')\n",
    "\n",
    "snopes = pd.read_csv('snopes_phase1_clean_2018_7_3.csv')#Might not use it"
   ]
  },
  {
   "cell_type": "code",
   "execution_count": 3,
   "metadata": {},
   "outputs": [
    {
     "data": {
      "text/html": [
       "<div>\n",
       "<style scoped>\n",
       "    .dataframe tbody tr th:only-of-type {\n",
       "        vertical-align: middle;\n",
       "    }\n",
       "\n",
       "    .dataframe tbody tr th {\n",
       "        vertical-align: top;\n",
       "    }\n",
       "\n",
       "    .dataframe thead th {\n",
       "        text-align: right;\n",
       "    }\n",
       "</style>\n",
       "<table border=\"1\" class=\"dataframe\">\n",
       "  <thead>\n",
       "    <tr style=\"text-align: right;\">\n",
       "      <th></th>\n",
       "      <th>title</th>\n",
       "      <th>text</th>\n",
       "      <th>subject</th>\n",
       "      <th>date</th>\n",
       "    </tr>\n",
       "  </thead>\n",
       "  <tbody>\n",
       "    <tr>\n",
       "      <th>0</th>\n",
       "      <td>As U.S. budget fight looms, Republicans flip t...</td>\n",
       "      <td>WASHINGTON (Reuters) - The head of a conservat...</td>\n",
       "      <td>politicsNews</td>\n",
       "      <td>December 31, 2017</td>\n",
       "    </tr>\n",
       "    <tr>\n",
       "      <th>1</th>\n",
       "      <td>U.S. military to accept transgender recruits o...</td>\n",
       "      <td>WASHINGTON (Reuters) - Transgender people will...</td>\n",
       "      <td>politicsNews</td>\n",
       "      <td>December 29, 2017</td>\n",
       "    </tr>\n",
       "    <tr>\n",
       "      <th>2</th>\n",
       "      <td>Senior U.S. Republican senator: 'Let Mr. Muell...</td>\n",
       "      <td>WASHINGTON (Reuters) - The special counsel inv...</td>\n",
       "      <td>politicsNews</td>\n",
       "      <td>December 31, 2017</td>\n",
       "    </tr>\n",
       "    <tr>\n",
       "      <th>3</th>\n",
       "      <td>FBI Russia probe helped by Australian diplomat...</td>\n",
       "      <td>WASHINGTON (Reuters) - Trump campaign adviser ...</td>\n",
       "      <td>politicsNews</td>\n",
       "      <td>December 30, 2017</td>\n",
       "    </tr>\n",
       "    <tr>\n",
       "      <th>4</th>\n",
       "      <td>Trump wants Postal Service to charge 'much mor...</td>\n",
       "      <td>SEATTLE/WASHINGTON (Reuters) - President Donal...</td>\n",
       "      <td>politicsNews</td>\n",
       "      <td>December 29, 2017</td>\n",
       "    </tr>\n",
       "  </tbody>\n",
       "</table>\n",
       "</div>"
      ],
      "text/plain": [
       "                                               title  \\\n",
       "0  As U.S. budget fight looms, Republicans flip t...   \n",
       "1  U.S. military to accept transgender recruits o...   \n",
       "2  Senior U.S. Republican senator: 'Let Mr. Muell...   \n",
       "3  FBI Russia probe helped by Australian diplomat...   \n",
       "4  Trump wants Postal Service to charge 'much mor...   \n",
       "\n",
       "                                                text       subject  \\\n",
       "0  WASHINGTON (Reuters) - The head of a conservat...  politicsNews   \n",
       "1  WASHINGTON (Reuters) - Transgender people will...  politicsNews   \n",
       "2  WASHINGTON (Reuters) - The special counsel inv...  politicsNews   \n",
       "3  WASHINGTON (Reuters) - Trump campaign adviser ...  politicsNews   \n",
       "4  SEATTLE/WASHINGTON (Reuters) - President Donal...  politicsNews   \n",
       "\n",
       "                 date  \n",
       "0  December 31, 2017   \n",
       "1  December 29, 2017   \n",
       "2  December 31, 2017   \n",
       "3  December 30, 2017   \n",
       "4  December 29, 2017   "
      ]
     },
     "execution_count": 3,
     "metadata": {},
     "output_type": "execute_result"
    }
   ],
   "source": [
    "real_data.head()"
   ]
  },
  {
   "cell_type": "code",
   "execution_count": 4,
   "metadata": {},
   "outputs": [
    {
     "data": {
      "text/plain": [
       "title      21417\n",
       "text       21417\n",
       "subject    21417\n",
       "date       21417\n",
       "dtype: int64"
      ]
     },
     "execution_count": 4,
     "metadata": {},
     "output_type": "execute_result"
    }
   ],
   "source": [
    "real_data.count()"
   ]
  },
  {
   "cell_type": "code",
   "execution_count": 5,
   "metadata": {},
   "outputs": [
    {
     "data": {
      "text/html": [
       "<div>\n",
       "<style scoped>\n",
       "    .dataframe tbody tr th:only-of-type {\n",
       "        vertical-align: middle;\n",
       "    }\n",
       "\n",
       "    .dataframe tbody tr th {\n",
       "        vertical-align: top;\n",
       "    }\n",
       "\n",
       "    .dataframe thead th {\n",
       "        text-align: right;\n",
       "    }\n",
       "</style>\n",
       "<table border=\"1\" class=\"dataframe\">\n",
       "  <thead>\n",
       "    <tr style=\"text-align: right;\">\n",
       "      <th></th>\n",
       "      <th>title</th>\n",
       "      <th>text</th>\n",
       "      <th>subject</th>\n",
       "      <th>date</th>\n",
       "    </tr>\n",
       "  </thead>\n",
       "  <tbody>\n",
       "    <tr>\n",
       "      <th>0</th>\n",
       "      <td>Donald Trump Sends Out Embarrassing New Year’...</td>\n",
       "      <td>Donald Trump just couldn t wish all Americans ...</td>\n",
       "      <td>News</td>\n",
       "      <td>December 31, 2017</td>\n",
       "    </tr>\n",
       "    <tr>\n",
       "      <th>1</th>\n",
       "      <td>Drunk Bragging Trump Staffer Started Russian ...</td>\n",
       "      <td>House Intelligence Committee Chairman Devin Nu...</td>\n",
       "      <td>News</td>\n",
       "      <td>December 31, 2017</td>\n",
       "    </tr>\n",
       "    <tr>\n",
       "      <th>2</th>\n",
       "      <td>Sheriff David Clarke Becomes An Internet Joke...</td>\n",
       "      <td>On Friday, it was revealed that former Milwauk...</td>\n",
       "      <td>News</td>\n",
       "      <td>December 30, 2017</td>\n",
       "    </tr>\n",
       "    <tr>\n",
       "      <th>3</th>\n",
       "      <td>Trump Is So Obsessed He Even Has Obama’s Name...</td>\n",
       "      <td>On Christmas day, Donald Trump announced that ...</td>\n",
       "      <td>News</td>\n",
       "      <td>December 29, 2017</td>\n",
       "    </tr>\n",
       "    <tr>\n",
       "      <th>4</th>\n",
       "      <td>Pope Francis Just Called Out Donald Trump Dur...</td>\n",
       "      <td>Pope Francis used his annual Christmas Day mes...</td>\n",
       "      <td>News</td>\n",
       "      <td>December 25, 2017</td>\n",
       "    </tr>\n",
       "  </tbody>\n",
       "</table>\n",
       "</div>"
      ],
      "text/plain": [
       "                                               title  \\\n",
       "0   Donald Trump Sends Out Embarrassing New Year’...   \n",
       "1   Drunk Bragging Trump Staffer Started Russian ...   \n",
       "2   Sheriff David Clarke Becomes An Internet Joke...   \n",
       "3   Trump Is So Obsessed He Even Has Obama’s Name...   \n",
       "4   Pope Francis Just Called Out Donald Trump Dur...   \n",
       "\n",
       "                                                text subject  \\\n",
       "0  Donald Trump just couldn t wish all Americans ...    News   \n",
       "1  House Intelligence Committee Chairman Devin Nu...    News   \n",
       "2  On Friday, it was revealed that former Milwauk...    News   \n",
       "3  On Christmas day, Donald Trump announced that ...    News   \n",
       "4  Pope Francis used his annual Christmas Day mes...    News   \n",
       "\n",
       "                date  \n",
       "0  December 31, 2017  \n",
       "1  December 31, 2017  \n",
       "2  December 30, 2017  \n",
       "3  December 29, 2017  \n",
       "4  December 25, 2017  "
      ]
     },
     "execution_count": 5,
     "metadata": {},
     "output_type": "execute_result"
    }
   ],
   "source": [
    "fake_data.head()"
   ]
  },
  {
   "cell_type": "code",
   "execution_count": 6,
   "metadata": {},
   "outputs": [
    {
     "data": {
      "text/plain": [
       "title      23481\n",
       "text       23481\n",
       "subject    23481\n",
       "date       23481\n",
       "dtype: int64"
      ]
     },
     "execution_count": 6,
     "metadata": {},
     "output_type": "execute_result"
    }
   ],
   "source": [
    "fake_data.count()"
   ]
  },
  {
   "cell_type": "code",
   "execution_count": 7,
   "metadata": {
    "scrolled": true
   },
   "outputs": [
    {
     "data": {
      "text/html": [
       "<div>\n",
       "<style scoped>\n",
       "    .dataframe tbody tr th:only-of-type {\n",
       "        vertical-align: middle;\n",
       "    }\n",
       "\n",
       "    .dataframe tbody tr th {\n",
       "        vertical-align: top;\n",
       "    }\n",
       "\n",
       "    .dataframe thead th {\n",
       "        text-align: right;\n",
       "    }\n",
       "</style>\n",
       "<table border=\"1\" class=\"dataframe\">\n",
       "  <thead>\n",
       "    <tr style=\"text-align: right;\">\n",
       "      <th></th>\n",
       "      <th>author</th>\n",
       "      <th>published</th>\n",
       "      <th>title</th>\n",
       "      <th>text</th>\n",
       "      <th>language</th>\n",
       "      <th>site_url</th>\n",
       "      <th>main_img_url</th>\n",
       "      <th>type</th>\n",
       "      <th>label</th>\n",
       "      <th>title_without_stopwords</th>\n",
       "      <th>text_without_stopwords</th>\n",
       "      <th>hasImage</th>\n",
       "    </tr>\n",
       "  </thead>\n",
       "  <tbody>\n",
       "    <tr>\n",
       "      <th>0</th>\n",
       "      <td>Barracuda Brigade</td>\n",
       "      <td>2016-10-26T21:41:00.000+03:00</td>\n",
       "      <td>muslims busted they stole millions in govt ben...</td>\n",
       "      <td>print they should pay all the back all the mon...</td>\n",
       "      <td>english</td>\n",
       "      <td>100percentfedup.com</td>\n",
       "      <td>http://bb4sp.com/wp-content/uploads/2016/10/Fu...</td>\n",
       "      <td>bias</td>\n",
       "      <td>Real</td>\n",
       "      <td>muslims busted stole millions govt benefits</td>\n",
       "      <td>print pay back money plus interest entire fami...</td>\n",
       "      <td>1.0</td>\n",
       "    </tr>\n",
       "    <tr>\n",
       "      <th>1</th>\n",
       "      <td>reasoning with facts</td>\n",
       "      <td>2016-10-29T08:47:11.259+03:00</td>\n",
       "      <td>re why did attorney general loretta lynch plea...</td>\n",
       "      <td>why did attorney general loretta lynch plead t...</td>\n",
       "      <td>english</td>\n",
       "      <td>100percentfedup.com</td>\n",
       "      <td>http://bb4sp.com/wp-content/uploads/2016/10/Fu...</td>\n",
       "      <td>bias</td>\n",
       "      <td>Real</td>\n",
       "      <td>attorney general loretta lynch plead fifth</td>\n",
       "      <td>attorney general loretta lynch plead fifth bar...</td>\n",
       "      <td>1.0</td>\n",
       "    </tr>\n",
       "    <tr>\n",
       "      <th>2</th>\n",
       "      <td>Barracuda Brigade</td>\n",
       "      <td>2016-10-31T01:41:49.479+02:00</td>\n",
       "      <td>breaking weiner cooperating with fbi on hillar...</td>\n",
       "      <td>red state  \\nfox news sunday reported this mor...</td>\n",
       "      <td>english</td>\n",
       "      <td>100percentfedup.com</td>\n",
       "      <td>http://bb4sp.com/wp-content/uploads/2016/10/Fu...</td>\n",
       "      <td>bias</td>\n",
       "      <td>Real</td>\n",
       "      <td>breaking weiner cooperating fbi hillary email ...</td>\n",
       "      <td>red state fox news sunday reported morning ant...</td>\n",
       "      <td>1.0</td>\n",
       "    </tr>\n",
       "    <tr>\n",
       "      <th>3</th>\n",
       "      <td>Fed Up</td>\n",
       "      <td>2016-11-01T05:22:00.000+02:00</td>\n",
       "      <td>pin drop speech by father of daughter kidnappe...</td>\n",
       "      <td>email kayla mueller was a prisoner and torture...</td>\n",
       "      <td>english</td>\n",
       "      <td>100percentfedup.com</td>\n",
       "      <td>http://100percentfedup.com/wp-content/uploads/...</td>\n",
       "      <td>bias</td>\n",
       "      <td>Real</td>\n",
       "      <td>pin drop speech father daughter kidnapped kill...</td>\n",
       "      <td>email kayla mueller prisoner tortured isis cha...</td>\n",
       "      <td>1.0</td>\n",
       "    </tr>\n",
       "    <tr>\n",
       "      <th>4</th>\n",
       "      <td>Fed Up</td>\n",
       "      <td>2016-11-01T21:56:00.000+02:00</td>\n",
       "      <td>fantastic trumps  point plan to reform healthc...</td>\n",
       "      <td>email healthcare reform to make america great ...</td>\n",
       "      <td>english</td>\n",
       "      <td>100percentfedup.com</td>\n",
       "      <td>http://100percentfedup.com/wp-content/uploads/...</td>\n",
       "      <td>bias</td>\n",
       "      <td>Real</td>\n",
       "      <td>fantastic trumps point plan reform healthcare ...</td>\n",
       "      <td>email healthcare reform make america great sin...</td>\n",
       "      <td>1.0</td>\n",
       "    </tr>\n",
       "  </tbody>\n",
       "</table>\n",
       "</div>"
      ],
      "text/plain": [
       "                 author                      published  \\\n",
       "0     Barracuda Brigade  2016-10-26T21:41:00.000+03:00   \n",
       "1  reasoning with facts  2016-10-29T08:47:11.259+03:00   \n",
       "2     Barracuda Brigade  2016-10-31T01:41:49.479+02:00   \n",
       "3                Fed Up  2016-11-01T05:22:00.000+02:00   \n",
       "4                Fed Up  2016-11-01T21:56:00.000+02:00   \n",
       "\n",
       "                                               title  \\\n",
       "0  muslims busted they stole millions in govt ben...   \n",
       "1  re why did attorney general loretta lynch plea...   \n",
       "2  breaking weiner cooperating with fbi on hillar...   \n",
       "3  pin drop speech by father of daughter kidnappe...   \n",
       "4  fantastic trumps  point plan to reform healthc...   \n",
       "\n",
       "                                                text language  \\\n",
       "0  print they should pay all the back all the mon...  english   \n",
       "1  why did attorney general loretta lynch plead t...  english   \n",
       "2  red state  \\nfox news sunday reported this mor...  english   \n",
       "3  email kayla mueller was a prisoner and torture...  english   \n",
       "4  email healthcare reform to make america great ...  english   \n",
       "\n",
       "              site_url                                       main_img_url  \\\n",
       "0  100percentfedup.com  http://bb4sp.com/wp-content/uploads/2016/10/Fu...   \n",
       "1  100percentfedup.com  http://bb4sp.com/wp-content/uploads/2016/10/Fu...   \n",
       "2  100percentfedup.com  http://bb4sp.com/wp-content/uploads/2016/10/Fu...   \n",
       "3  100percentfedup.com  http://100percentfedup.com/wp-content/uploads/...   \n",
       "4  100percentfedup.com  http://100percentfedup.com/wp-content/uploads/...   \n",
       "\n",
       "   type label                            title_without_stopwords  \\\n",
       "0  bias  Real        muslims busted stole millions govt benefits   \n",
       "1  bias  Real         attorney general loretta lynch plead fifth   \n",
       "2  bias  Real  breaking weiner cooperating fbi hillary email ...   \n",
       "3  bias  Real  pin drop speech father daughter kidnapped kill...   \n",
       "4  bias  Real  fantastic trumps point plan reform healthcare ...   \n",
       "\n",
       "                              text_without_stopwords  hasImage  \n",
       "0  print pay back money plus interest entire fami...       1.0  \n",
       "1  attorney general loretta lynch plead fifth bar...       1.0  \n",
       "2  red state fox news sunday reported morning ant...       1.0  \n",
       "3  email kayla mueller prisoner tortured isis cha...       1.0  \n",
       "4  email healthcare reform make america great sin...       1.0  "
      ]
     },
     "execution_count": 7,
     "metadata": {},
     "output_type": "execute_result"
    }
   ],
   "source": [
    "articles.head()"
   ]
  },
  {
   "cell_type": "code",
   "execution_count": 8,
   "metadata": {
    "scrolled": false
   },
   "outputs": [
    {
     "data": {
      "text/plain": [
       "Fake    1294\n",
       "Real     801\n",
       "Name: label, dtype: int64"
      ]
     },
     "execution_count": 8,
     "metadata": {},
     "output_type": "execute_result"
    }
   ],
   "source": [
    "articles['label'].value_counts()"
   ]
  },
  {
   "cell_type": "markdown",
   "metadata": {},
   "source": [
    "## Processing the data"
   ]
  },
  {
   "cell_type": "code",
   "execution_count": 9,
   "metadata": {},
   "outputs": [],
   "source": [
    "fake_data['label']='Fake' #Creating a new column which is called label and value in it is Fake\n",
    "real_data['label']='Real'#Creating a new column which is called label and value in it is Real\n",
    "#This is necessary if we want to concatenate the dataframes since we need a way to identify which articles are fake and which real."
   ]
  },
  {
   "cell_type": "code",
   "execution_count": 10,
   "metadata": {},
   "outputs": [],
   "source": [
    "articles.drop(['author','site_url','main_img_url','title_without_stopwords','hasImage','text_without_stopwords','language'],inplace=True,axis=1)\n",
    "\n",
    "#Dropping unneccessary columns so we could concatenate it easier with our other two datasets"
   ]
  },
  {
   "cell_type": "code",
   "execution_count": 11,
   "metadata": {},
   "outputs": [
    {
     "data": {
      "text/plain": [
       "published     0\n",
       "title         0\n",
       "text         46\n",
       "type          1\n",
       "label         1\n",
       "dtype: int64"
      ]
     },
     "execution_count": 11,
     "metadata": {},
     "output_type": "execute_result"
    }
   ],
   "source": [
    "articles.isna().sum()#Checking how many NaN values exist"
   ]
  },
  {
   "cell_type": "code",
   "execution_count": 12,
   "metadata": {},
   "outputs": [],
   "source": [
    "articles = articles.dropna()#Dropping the rows with NaN values"
   ]
  },
  {
   "cell_type": "code",
   "execution_count": 13,
   "metadata": {},
   "outputs": [
    {
     "data": {
      "text/plain": [
       "published    0\n",
       "title        0\n",
       "text         0\n",
       "type         0\n",
       "label        0\n",
       "dtype: int64"
      ]
     },
     "execution_count": 13,
     "metadata": {},
     "output_type": "execute_result"
    }
   ],
   "source": [
    "articles.isna().sum()"
   ]
  },
  {
   "cell_type": "code",
   "execution_count": 14,
   "metadata": {},
   "outputs": [],
   "source": [
    "from dateutil.parser import parse\n",
    "def is_valid_date(s): #Function to check whether date is valid or not\n",
    "    try:\n",
    "        parse(s)\n",
    "        return True\n",
    "    except:\n",
    "        return False\n",
    "\n",
    "articles = articles[articles.published.apply(is_valid_date)]#Leaving only the rows with valid dates.\n",
    "articles['published'] = pd.to_datetime(articles['published'], utc=True)#Converting arguments in published column to datetime\n",
    "articles['date']=articles['published'].dt.strftime(\"%d %B, %Y\")#Creating a new column called date \n",
    "articles.drop('published',inplace=True,axis=1)"
   ]
  },
  {
   "cell_type": "code",
   "execution_count": 15,
   "metadata": {},
   "outputs": [],
   "source": [
    "articles.rename(columns={'type': 'subject'}, inplace=True)#Changing the column name type to subject"
   ]
  },
  {
   "cell_type": "code",
   "execution_count": 16,
   "metadata": {},
   "outputs": [],
   "source": [
    "columns = list(articles.columns)\n",
    "columns[3],columns[4]=columns[4],columns[3] #Swapping the places of columns date and label\n",
    "articles =articles[columns]"
   ]
  },
  {
   "cell_type": "code",
   "execution_count": 17,
   "metadata": {},
   "outputs": [
    {
     "data": {
      "text/html": [
       "<div>\n",
       "<style scoped>\n",
       "    .dataframe tbody tr th:only-of-type {\n",
       "        vertical-align: middle;\n",
       "    }\n",
       "\n",
       "    .dataframe tbody tr th {\n",
       "        vertical-align: top;\n",
       "    }\n",
       "\n",
       "    .dataframe thead th {\n",
       "        text-align: right;\n",
       "    }\n",
       "</style>\n",
       "<table border=\"1\" class=\"dataframe\">\n",
       "  <thead>\n",
       "    <tr style=\"text-align: right;\">\n",
       "      <th></th>\n",
       "      <th>title</th>\n",
       "      <th>text</th>\n",
       "      <th>subject</th>\n",
       "      <th>date</th>\n",
       "      <th>label</th>\n",
       "    </tr>\n",
       "  </thead>\n",
       "  <tbody>\n",
       "    <tr>\n",
       "      <th>0</th>\n",
       "      <td>muslims busted they stole millions in govt ben...</td>\n",
       "      <td>print they should pay all the back all the mon...</td>\n",
       "      <td>bias</td>\n",
       "      <td>26 October, 2016</td>\n",
       "      <td>Real</td>\n",
       "    </tr>\n",
       "    <tr>\n",
       "      <th>1</th>\n",
       "      <td>re why did attorney general loretta lynch plea...</td>\n",
       "      <td>why did attorney general loretta lynch plead t...</td>\n",
       "      <td>bias</td>\n",
       "      <td>29 October, 2016</td>\n",
       "      <td>Real</td>\n",
       "    </tr>\n",
       "    <tr>\n",
       "      <th>2</th>\n",
       "      <td>breaking weiner cooperating with fbi on hillar...</td>\n",
       "      <td>red state  \\nfox news sunday reported this mor...</td>\n",
       "      <td>bias</td>\n",
       "      <td>30 October, 2016</td>\n",
       "      <td>Real</td>\n",
       "    </tr>\n",
       "    <tr>\n",
       "      <th>3</th>\n",
       "      <td>pin drop speech by father of daughter kidnappe...</td>\n",
       "      <td>email kayla mueller was a prisoner and torture...</td>\n",
       "      <td>bias</td>\n",
       "      <td>01 November, 2016</td>\n",
       "      <td>Real</td>\n",
       "    </tr>\n",
       "    <tr>\n",
       "      <th>4</th>\n",
       "      <td>fantastic trumps  point plan to reform healthc...</td>\n",
       "      <td>email healthcare reform to make america great ...</td>\n",
       "      <td>bias</td>\n",
       "      <td>01 November, 2016</td>\n",
       "      <td>Real</td>\n",
       "    </tr>\n",
       "  </tbody>\n",
       "</table>\n",
       "</div>"
      ],
      "text/plain": [
       "                                               title  \\\n",
       "0  muslims busted they stole millions in govt ben...   \n",
       "1  re why did attorney general loretta lynch plea...   \n",
       "2  breaking weiner cooperating with fbi on hillar...   \n",
       "3  pin drop speech by father of daughter kidnappe...   \n",
       "4  fantastic trumps  point plan to reform healthc...   \n",
       "\n",
       "                                                text subject  \\\n",
       "0  print they should pay all the back all the mon...    bias   \n",
       "1  why did attorney general loretta lynch plead t...    bias   \n",
       "2  red state  \\nfox news sunday reported this mor...    bias   \n",
       "3  email kayla mueller was a prisoner and torture...    bias   \n",
       "4  email healthcare reform to make america great ...    bias   \n",
       "\n",
       "                date label  \n",
       "0   26 October, 2016  Real  \n",
       "1   29 October, 2016  Real  \n",
       "2   30 October, 2016  Real  \n",
       "3  01 November, 2016  Real  \n",
       "4  01 November, 2016  Real  "
      ]
     },
     "execution_count": 17,
     "metadata": {},
     "output_type": "execute_result"
    }
   ],
   "source": [
    "articles.head()"
   ]
  },
  {
   "cell_type": "markdown",
   "metadata": {},
   "source": [
    "#### Putting the dataframes together to make one unfied dataframe"
   ]
  },
  {
   "cell_type": "code",
   "execution_count": 18,
   "metadata": {},
   "outputs": [],
   "source": [
    "news = pd.concat([real_data,fake_data,articles],ignore_index=True, sort=False) #Putting the dataframes all together into our new dataframe called news"
   ]
  },
  {
   "cell_type": "code",
   "execution_count": 19,
   "metadata": {},
   "outputs": [
    {
     "data": {
      "text/plain": [
       "title      0\n",
       "text       0\n",
       "subject    0\n",
       "date       0\n",
       "label      0\n",
       "dtype: int64"
      ]
     },
     "execution_count": 19,
     "metadata": {},
     "output_type": "execute_result"
    }
   ],
   "source": [
    "news.isna().sum()#Checking if there are any NaN values"
   ]
  },
  {
   "cell_type": "code",
   "execution_count": 20,
   "metadata": {},
   "outputs": [
    {
     "data": {
      "text/html": [
       "<div>\n",
       "<style scoped>\n",
       "    .dataframe tbody tr th:only-of-type {\n",
       "        vertical-align: middle;\n",
       "    }\n",
       "\n",
       "    .dataframe tbody tr th {\n",
       "        vertical-align: top;\n",
       "    }\n",
       "\n",
       "    .dataframe thead th {\n",
       "        text-align: right;\n",
       "    }\n",
       "</style>\n",
       "<table border=\"1\" class=\"dataframe\">\n",
       "  <thead>\n",
       "    <tr style=\"text-align: right;\">\n",
       "      <th></th>\n",
       "      <th>title</th>\n",
       "      <th>text</th>\n",
       "      <th>subject</th>\n",
       "      <th>date</th>\n",
       "      <th>label</th>\n",
       "    </tr>\n",
       "  </thead>\n",
       "  <tbody>\n",
       "    <tr>\n",
       "      <th>0</th>\n",
       "      <td>As U.S. budget fight looms, Republicans flip t...</td>\n",
       "      <td>WASHINGTON (Reuters) - The head of a conservat...</td>\n",
       "      <td>politicsNews</td>\n",
       "      <td>December 31, 2017</td>\n",
       "      <td>Real</td>\n",
       "    </tr>\n",
       "    <tr>\n",
       "      <th>1</th>\n",
       "      <td>U.S. military to accept transgender recruits o...</td>\n",
       "      <td>WASHINGTON (Reuters) - Transgender people will...</td>\n",
       "      <td>politicsNews</td>\n",
       "      <td>December 29, 2017</td>\n",
       "      <td>Real</td>\n",
       "    </tr>\n",
       "    <tr>\n",
       "      <th>2</th>\n",
       "      <td>Senior U.S. Republican senator: 'Let Mr. Muell...</td>\n",
       "      <td>WASHINGTON (Reuters) - The special counsel inv...</td>\n",
       "      <td>politicsNews</td>\n",
       "      <td>December 31, 2017</td>\n",
       "      <td>Real</td>\n",
       "    </tr>\n",
       "    <tr>\n",
       "      <th>3</th>\n",
       "      <td>FBI Russia probe helped by Australian diplomat...</td>\n",
       "      <td>WASHINGTON (Reuters) - Trump campaign adviser ...</td>\n",
       "      <td>politicsNews</td>\n",
       "      <td>December 30, 2017</td>\n",
       "      <td>Real</td>\n",
       "    </tr>\n",
       "    <tr>\n",
       "      <th>4</th>\n",
       "      <td>Trump wants Postal Service to charge 'much mor...</td>\n",
       "      <td>SEATTLE/WASHINGTON (Reuters) - President Donal...</td>\n",
       "      <td>politicsNews</td>\n",
       "      <td>December 29, 2017</td>\n",
       "      <td>Real</td>\n",
       "    </tr>\n",
       "  </tbody>\n",
       "</table>\n",
       "</div>"
      ],
      "text/plain": [
       "                                               title  \\\n",
       "0  As U.S. budget fight looms, Republicans flip t...   \n",
       "1  U.S. military to accept transgender recruits o...   \n",
       "2  Senior U.S. Republican senator: 'Let Mr. Muell...   \n",
       "3  FBI Russia probe helped by Australian diplomat...   \n",
       "4  Trump wants Postal Service to charge 'much mor...   \n",
       "\n",
       "                                                text       subject  \\\n",
       "0  WASHINGTON (Reuters) - The head of a conservat...  politicsNews   \n",
       "1  WASHINGTON (Reuters) - Transgender people will...  politicsNews   \n",
       "2  WASHINGTON (Reuters) - The special counsel inv...  politicsNews   \n",
       "3  WASHINGTON (Reuters) - Trump campaign adviser ...  politicsNews   \n",
       "4  SEATTLE/WASHINGTON (Reuters) - President Donal...  politicsNews   \n",
       "\n",
       "                 date label  \n",
       "0  December 31, 2017   Real  \n",
       "1  December 29, 2017   Real  \n",
       "2  December 31, 2017   Real  \n",
       "3  December 30, 2017   Real  \n",
       "4  December 29, 2017   Real  "
      ]
     },
     "execution_count": 20,
     "metadata": {},
     "output_type": "execute_result"
    }
   ],
   "source": [
    "news.head()"
   ]
  },
  {
   "cell_type": "code",
   "execution_count": 21,
   "metadata": {},
   "outputs": [
    {
     "data": {
      "text/plain": [
       "Fake    24772\n",
       "Real    22174\n",
       "Name: label, dtype: int64"
      ]
     },
     "execution_count": 21,
     "metadata": {},
     "output_type": "execute_result"
    }
   ],
   "source": [
    "news['label'].value_counts()"
   ]
  },
  {
   "cell_type": "markdown",
   "metadata": {},
   "source": [
    "Now we have put the data together from the first and second Kaggle dataset."
   ]
  },
  {
   "cell_type": "markdown",
   "metadata": {},
   "source": [
    "### Text to lower case"
   ]
  },
  {
   "cell_type": "code",
   "execution_count": 22,
   "metadata": {},
   "outputs": [],
   "source": [
    "news.title = news.title.str.lower()\n",
    "news.text = news.text.str.lower()"
   ]
  },
  {
   "cell_type": "markdown",
   "metadata": {},
   "source": [
    "### Removing stopwords and punctuation"
   ]
  },
  {
   "cell_type": "code",
   "execution_count": 23,
   "metadata": {},
   "outputs": [],
   "source": [
    "title_copy =news.title.copy()\n",
    "text_copy= news.text.copy()"
   ]
  },
  {
   "cell_type": "code",
   "execution_count": 24,
   "metadata": {},
   "outputs": [],
   "source": [
    "stopwords = nltk.corpus.stopwords.words(\"english\")\n",
    "def remove_stopwords(text):\n",
    "    text_to_token = nltk.word_tokenize(text)\n",
    "    remove_stopwords = [word for word in text_to_token if not word in stopwords]\n",
    "    join_text = ' '.join(remove_stopwords)\n",
    "    return join_text\n",
    "\n"
   ]
  },
  {
   "cell_type": "code",
   "execution_count": 25,
   "metadata": {},
   "outputs": [],
   "source": [
    "news_copy = news.copy()\n",
    "news['title_cleaned']=news_copy.title.apply(lambda x : remove_stopwords(x))\n",
    "#news['text_cleaned']=news_copy.text.apply(lambda x : remove_stopwords(x))"
   ]
  },
  {
   "cell_type": "code",
   "execution_count": 26,
   "metadata": {},
   "outputs": [],
   "source": [
    "import string\n",
    "def remove_punctuation(text):\n",
    "    words = text.split()\n",
    "    table = str.maketrans('', '', string.punctuation)\n",
    "    stripped = [w.translate(table) for w in words]\n",
    "    join_text = ' '.join(stripped)\n",
    "    return join_text"
   ]
  },
  {
   "cell_type": "code",
   "execution_count": 27,
   "metadata": {},
   "outputs": [],
   "source": [
    "news_copy = news.copy()\n",
    "news['title_cleaned']=news_copy.title_cleaned.apply(lambda x : remove_punctuation(x))\n",
    "#news['text_cleaned']=news_copy.text_cleaned.apply(lambda x : remove_punctuation(x))"
   ]
  },
  {
   "cell_type": "code",
   "execution_count": 28,
   "metadata": {
    "scrolled": false
   },
   "outputs": [
    {
     "name": "stdout",
     "output_type": "stream",
     "text": [
      "21417    donald trump sends embarrassing new year ’ eve...\n",
      "21418    drunk bragging trump staffer started russian c...\n",
      "21419    sheriff david clarke becomes internet joke thr...\n",
      "21420    trump obsessed even obama ’ name coded website...\n",
      "21421    pope francis called donald trump christmas speech\n",
      "                               ...                        \n",
      "46884                      report voter fraud crash course\n",
      "46885      national attention ayotte hassan nh senate race\n",
      "46886                                     honest elections\n",
      "46887                                    wars bankers wars\n",
      "46888        snow reports around northland duluth saturday\n",
      "Name: title_cleaned, Length: 24772, dtype: object\n"
     ]
    }
   ],
   "source": [
    "print(news.loc[news['label'] == 'Fake'].title_cleaned)"
   ]
  },
  {
   "cell_type": "markdown",
   "metadata": {},
   "source": [
    "### Stem words and lemmatize verbs"
   ]
  },
  {
   "cell_type": "code",
   "execution_count": 29,
   "metadata": {},
   "outputs": [],
   "source": [
    "#from nltk.stem import PorterStemmer\n",
    "#porter = PorterStemmer()\n",
    "#def stem_words(text):\n",
    "#    token_words=nltk.word_tokenize(text)\n",
    "#    stem_sentence=[]\n",
    "#    for word in token_words:\n",
    "#        stem_sentence.append(porter.stem(word))\n",
    "#        stem_sentence.append(\" \")\n",
    "#    return \"\".join(stem_sentence)\n",
    "\n",
    "\n",
    "#nltk.download('wordnet')\n",
    "from nltk.stem import WordNetLemmatizer\n",
    "wordnet_lemmatizer = WordNetLemmatizer()\n",
    "\n",
    "def lemma_words(text):\n",
    "    token_words=nltk.word_tokenize(text)\n",
    "    lemma_sentence=[]\n",
    "    for word in token_words:\n",
    "        lemma_sentence.append(word.format(word,wordnet_lemmatizer.lemmatize(word, pos=\"v\")))\n",
    "        lemma_sentence.append(\" \")\n",
    "    return \"\".join(lemma_sentence)"
   ]
  },
  {
   "cell_type": "markdown",
   "metadata": {},
   "source": [
    "### Most used words in fake news articles' titles"
   ]
  },
  {
   "cell_type": "code",
   "execution_count": 30,
   "metadata": {},
   "outputs": [
    {
     "name": "stderr",
     "output_type": "stream",
     "text": [
      "<ipython-input-30-88901bc3fd32>:4: SettingWithCopyWarning: \n",
      "A value is trying to be set on a copy of a slice from a DataFrame.\n",
      "Try using .loc[row_indexer,col_indexer] = value instead\n",
      "\n",
      "See the caveats in the documentation: https://pandas.pydata.org/pandas-docs/stable/user_guide/indexing.html#returning-a-view-versus-a-copy\n",
      "  fake_rows['title_lemma']=fake_copy.title_cleaned.apply(lambda x : lemma_words(x))\n"
     ]
    }
   ],
   "source": [
    "fake_rows = news.loc[news['label'] == 'Fake']\n",
    "fake_copy = fake_rows.copy()\n",
    "\n",
    "fake_rows['title_lemma']=fake_copy.title_cleaned.apply(lambda x : lemma_words(x))\n",
    "fake_title_freq = pd.Series(' '.join(fake_rows.title_lemma).split()).value_counts()\n",
    "fake_title_freq = fake_title_freq.drop(labels=['’', '”','“','‘','–'])\n",
    "fake_title_dict = fake_title_freq.to_dict()"
   ]
  },
  {
   "cell_type": "markdown",
   "metadata": {},
   "source": [
    "### Most used words in real news articles' titles"
   ]
  },
  {
   "cell_type": "code",
   "execution_count": 31,
   "metadata": {},
   "outputs": [
    {
     "name": "stderr",
     "output_type": "stream",
     "text": [
      "<ipython-input-31-2da6ef780fbc>:4: SettingWithCopyWarning: \n",
      "A value is trying to be set on a copy of a slice from a DataFrame.\n",
      "Try using .loc[row_indexer,col_indexer] = value instead\n",
      "\n",
      "See the caveats in the documentation: https://pandas.pydata.org/pandas-docs/stable/user_guide/indexing.html#returning-a-view-versus-a-copy\n",
      "  real_rows['title_lemma_real']=real_copy.title_cleaned.apply(lambda x : lemma_words(x))\n"
     ]
    },
    {
     "data": {
      "text/plain": [
       "{'trump': 5565,\n",
       " 'us': 4066,\n",
       " 'says': 2992,\n",
       " 'house': 1446,\n",
       " 'north': 929,\n",
       " 'russia': 922,\n",
       " 'new': 903,\n",
       " 'korea': 883,\n",
       " 'white': 821,\n",
       " 'china': 767,\n",
       " 'senate': 766,\n",
       " 'court': 731,\n",
       " 'clinton': 711,\n",
       " 'bill': 691,\n",
       " 'obama': 667,\n",
       " 'state': 655,\n",
       " 'republican': 637,\n",
       " 'tax': 612,\n",
       " 'eu': 568,\n",
       " 'may': 562,\n",
       " 'deal': 552,\n",
       " 'vote': 550,\n",
       " 'election': 539,\n",
       " 'un': 530,\n",
       " 'talks': 527,\n",
       " 'iran': 525,\n",
       " 'pm': 521,\n",
       " 'president': 507,\n",
       " 'syria': 458,\n",
       " 'minister': 454,\n",
       " 'south': 443,\n",
       " 'calls': 435,\n",
       " 'police': 423,\n",
       " 'factbox': 419,\n",
       " 'government': 413,\n",
       " 'brexit': 409,\n",
       " 'leader': 402,\n",
       " 'chief': 401,\n",
       " 'probe': 380,\n",
       " 'turkey': 372,\n",
       " 'congress': 370,\n",
       " 'plan': 358,\n",
       " 'uk': 356,\n",
       " 'party': 352,\n",
       " 'republicans': 348,\n",
       " 'sanctions': 347,\n",
       " 'russian': 346,\n",
       " 'official': 342,\n",
       " 'security': 327,\n",
       " 'military': 321,\n",
       " 'top': 318,\n",
       " 'nuclear': 314,\n",
       " 'campaign': 313,\n",
       " 'ban': 307,\n",
       " 'democrats': 292,\n",
       " 'saudi': 288,\n",
       " 'governor': 286,\n",
       " 'myanmar': 286,\n",
       " 'urges': 285,\n",
       " 'lawmakers': 282,\n",
       " 'foreign': 279,\n",
       " 'senator': 278,\n",
       " 'trade': 277,\n",
       " 'law': 277,\n",
       " 'presidential': 273,\n",
       " 'attack': 272,\n",
       " 'former': 270,\n",
       " 'opposition': 270,\n",
       " 'healthcare': 263,\n",
       " 'putin': 258,\n",
       " 'sources': 256,\n",
       " 'islamic': 256,\n",
       " 'britain': 255,\n",
       " 'german': 254,\n",
       " 'meet': 252,\n",
       " 'would': 247,\n",
       " 'border': 245,\n",
       " 'say': 244,\n",
       " 'budget': 244,\n",
       " 'media': 243,\n",
       " 'mexico': 242,\n",
       " 'supreme': 241,\n",
       " 'panel': 240,\n",
       " 'tillerson': 240,\n",
       " 'could': 238,\n",
       " 'japan': 237,\n",
       " 'first': 237,\n",
       " 'visit': 235,\n",
       " 'rights': 234,\n",
       " 'crisis': 233,\n",
       " 'syrian': 229,\n",
       " 'germany': 227,\n",
       " 'travel': 225,\n",
       " 'two': 223,\n",
       " 'iraq': 220,\n",
       " 'france': 219,\n",
       " 'poll': 216,\n",
       " 'fight': 215,\n",
       " 'meeting': 215,\n",
       " 'fbi': 214,\n",
       " 'aid': 212,\n",
       " 'defense': 212,\n",
       " 'exclusive': 212,\n",
       " 'war': 211,\n",
       " 'seeks': 210,\n",
       " 'administration': 209,\n",
       " 'officials': 208,\n",
       " 'wants': 206,\n",
       " 'jerusalem': 202,\n",
       " 'policy': 200,\n",
       " 'killed': 199,\n",
       " 'obamacare': 199,\n",
       " 'killed': 199,\n",
       " 'back': 199,\n",
       " 'nt': 198,\n",
       " 'ahead': 193,\n",
       " 'merkel': 193,\n",
       " 'coalition': 193,\n",
       " 'tells': 192,\n",
       " 'next': 190,\n",
       " 'support': 187,\n",
       " 'rohingya': 186,\n",
       " 'leaders': 185,\n",
       " 'ties': 185,\n",
       " 'judge': 185,\n",
       " 'puerto': 183,\n",
       " 'secretary': 182,\n",
       " 'report': 181,\n",
       " 'catalan': 181,\n",
       " 'reform': 179,\n",
       " 'warns': 179,\n",
       " 'move': 178,\n",
       " 'rico': 178,\n",
       " 'move': 178,\n",
       " 'general': 177,\n",
       " 'democratic': 175,\n",
       " 'end': 173,\n",
       " 'immigration': 173,\n",
       " 'amid': 173,\n",
       " 'air': 172,\n",
       " 'climate': 172,\n",
       " 'seek': 172,\n",
       " 'department': 171,\n",
       " 'bid': 170,\n",
       " 'macron': 169,\n",
       " 'political': 169,\n",
       " 'speaker': 168,\n",
       " 'korean': 167,\n",
       " 'zimbabwe': 166,\n",
       " 'must': 166,\n",
       " 'rules': 165,\n",
       " 'israel': 165,\n",
       " 'rules': 165,\n",
       " 'discuss': 165,\n",
       " 'call': 164,\n",
       " 'ryan': 164,\n",
       " 'case': 164,\n",
       " 'attacks': 163,\n",
       " 'million': 163,\n",
       " 'parliament': 163,\n",
       " 'army': 163,\n",
       " 'debate': 162,\n",
       " 'states': 162,\n",
       " 'debate': 162,\n",
       " 'race': 157,\n",
       " 'missile': 156,\n",
       " 'senators': 155,\n",
       " 'twitter': 155,\n",
       " 'turkish': 155,\n",
       " 'peace': 155,\n",
       " 'ruling': 155,\n",
       " 'pick': 154,\n",
       " 'iraqi': 152,\n",
       " 'independence': 151,\n",
       " 'source': 151,\n",
       " 'plans': 151,\n",
       " 'forces': 148,\n",
       " 'help': 147,\n",
       " 'group': 147,\n",
       " 'rule': 145,\n",
       " 'week': 145,\n",
       " 'decision': 144,\n",
       " 'kremlin': 143,\n",
       " 'agency': 141,\n",
       " 'order': 141,\n",
       " 'push': 140,\n",
       " 'take': 139,\n",
       " 'lebanon': 139,\n",
       " 'despite': 138,\n",
       " 'kurdish': 137,\n",
       " 'win': 135,\n",
       " 'key': 135,\n",
       " 'venezuela': 134,\n",
       " 'spain': 132,\n",
       " 'adviser': 131,\n",
       " 'democrat': 131,\n",
       " 'near': 131,\n",
       " 'presidency': 131,\n",
       " 'british': 130,\n",
       " 'xi': 130,\n",
       " 'sanders': 130,\n",
       " 'head': 129,\n",
       " 'sees': 129,\n",
       " 'backs': 127,\n",
       " 'lead': 127,\n",
       " 'still': 127,\n",
       " 'news': 127,\n",
       " 'yemen': 127,\n",
       " 'cuba': 126,\n",
       " 'attorney': 126,\n",
       " 'national': 125,\n",
       " 'kills': 125,\n",
       " 'erdogan': 125,\n",
       " 'threat': 125,\n",
       " 'women': 124,\n",
       " 'washington': 124,\n",
       " 'work': 124,\n",
       " 'funding': 124,\n",
       " 'egypt': 124,\n",
       " 'aide': 123,\n",
       " 'lawmaker': 123,\n",
       " 'aide': 123,\n",
       " 'envoy': 122,\n",
       " 'french': 121,\n",
       " 'justice': 120,\n",
       " 'comey': 120,\n",
       " 'catalonia': 120,\n",
       " 'hopes': 119,\n",
       " 'york': 118,\n",
       " 'refugees': 118,\n",
       " 'speech': 118,\n",
       " 'cut': 117,\n",
       " 'three': 117,\n",
       " 'spokesman': 117,\n",
       " 'power': 117,\n",
       " 'change': 117,\n",
       " 'likely': 116,\n",
       " 'orders': 115,\n",
       " 'debt': 115,\n",
       " 'open': 115,\n",
       " 'people': 115,\n",
       " 'health': 114,\n",
       " 'hillary': 113,\n",
       " 'ready': 113,\n",
       " 'make': 113,\n",
       " 'fire': 112,\n",
       " 'wins': 112,\n",
       " 'oil': 112,\n",
       " 'one': 112,\n",
       " 'billion': 112,\n",
       " 'california': 111,\n",
       " 'wall': 111,\n",
       " 'legal': 111,\n",
       " 'years': 110,\n",
       " 'test': 110,\n",
       " 'dead': 110,\n",
       " 'approves': 110,\n",
       " 'asks': 109,\n",
       " 'irma': 109,\n",
       " 'rejects': 109,\n",
       " 'vows': 109,\n",
       " 'candidate': 109,\n",
       " '2018': 107,\n",
       " 'tv': 107,\n",
       " 'lawyer': 107,\n",
       " 'tv': 107,\n",
       " 'hurricane': 106,\n",
       " 'canada': 106,\n",
       " 'want': 106,\n",
       " 'philippines': 105,\n",
       " 'set': 105,\n",
       " 'charges': 105,\n",
       " 'pentagon': 105,\n",
       " 'force': 105,\n",
       " 'city': 105,\n",
       " 'pressure': 105,\n",
       " 'death': 105,\n",
       " 'nato': 105,\n",
       " 'review': 104,\n",
       " 'protest': 104,\n",
       " 'arrest': 104,\n",
       " 'action': 104,\n",
       " 'possible': 103,\n",
       " 'time': 103,\n",
       " 'pakistan': 103,\n",
       " 'possible': 103,\n",
       " 'bomb': 101,\n",
       " 'london': 100,\n",
       " 'intelligence': 100,\n",
       " 'year': 100,\n",
       " 'florida': 100,\n",
       " 'four': 100,\n",
       " 'kill': 100,\n",
       " 'email': 100,\n",
       " 'hold': 100,\n",
       " 'africa': 99,\n",
       " 'violence': 99,\n",
       " 'summit': 99,\n",
       " 'cruz': 99,\n",
       " 'office': 99,\n",
       " 'takes': 99,\n",
       " 'business': 99,\n",
       " 'agree': 99,\n",
       " 'stop': 98,\n",
       " 'corruption': 98,\n",
       " 'stop': 98,\n",
       " 'committee': 98,\n",
       " 'team': 98,\n",
       " 'votes': 98,\n",
       " 'role': 98,\n",
       " 'referendum': 98,\n",
       " 'brazil': 98,\n",
       " 'strikes': 98,\n",
       " 'big': 97,\n",
       " 'trial': 97,\n",
       " 'least': 97,\n",
       " 'strike': 97,\n",
       " 'militants': 96,\n",
       " 'senior': 96,\n",
       " 'voters': 95,\n",
       " 'groups': 94,\n",
       " 'capital': 94,\n",
       " 'chinese': 94,\n",
       " 'arabia': 93,\n",
       " 'india': 93,\n",
       " 'release': 93,\n",
       " 'arabia': 93,\n",
       " 'wo': 93,\n",
       " 'world': 92,\n",
       " 'urge': 92,\n",
       " 'bank': 92,\n",
       " 'get': 92,\n",
       " 'hariri': 91,\n",
       " 'suspected': 91,\n",
       " 'special': 91,\n",
       " 'east': 91,\n",
       " 'reports': 91,\n",
       " 'return': 90,\n",
       " 'passes': 90,\n",
       " 'cuts': 90,\n",
       " 'control': 90,\n",
       " 'northern': 90,\n",
       " 'ria': 90,\n",
       " 'defends': 89,\n",
       " 'ireland': 89,\n",
       " 'battle': 89,\n",
       " 'repeal': 89,\n",
       " 'cyber': 89,\n",
       " 'post': 88,\n",
       " 'flynn': 88,\n",
       " 'australia': 88,\n",
       " 'donald': 88,\n",
       " 'seen': 87,\n",
       " 'ambassador': 87,\n",
       " 'denies': 87,\n",
       " 'run': 87,\n",
       " 'italy': 86,\n",
       " 'moscow': 86,\n",
       " 'issues': 86,\n",
       " 'mugabe': 86,\n",
       " 'leave': 86,\n",
       " 'protests': 86,\n",
       " 'moscow': 86,\n",
       " 'faces': 85,\n",
       " 'title': 85,\n",
       " 'gun': 85,\n",
       " 'statement': 85,\n",
       " 'taiwan': 85,\n",
       " 'faces': 85,\n",
       " 'trip': 85,\n",
       " 'gun': 85,\n",
       " 'spending': 85,\n",
       " 'trip': 85,\n",
       " 'taiwan': 85,\n",
       " 'victory': 84,\n",
       " 'embassy': 84,\n",
       " 'boost': 84,\n",
       " 'march': 83,\n",
       " 'see': 83,\n",
       " 'rally': 83,\n",
       " 'mayor': 83,\n",
       " 'energy': 83,\n",
       " 'director': 83,\n",
       " 'kenya': 83,\n",
       " 'face': 83,\n",
       " 'final': 83,\n",
       " 'nafta': 82,\n",
       " 'federal': 81,\n",
       " 'arms': 81,\n",
       " 'mattis': 81,\n",
       " 'europe': 81,\n",
       " 'texas': 81,\n",
       " 'paris': 81,\n",
       " 'start': 80,\n",
       " 'keep': 80,\n",
       " 'block': 80,\n",
       " 'illinois': 80,\n",
       " 'sign': 80,\n",
       " 'asia': 80,\n",
       " 'afghanistan': 79,\n",
       " 'claims': 79,\n",
       " 'pope': 79,\n",
       " 'last': 79,\n",
       " 'treasury': 78,\n",
       " 'man': 78,\n",
       " 'afghan': 78,\n",
       " 'reutersipsos': 77,\n",
       " 'americans': 77,\n",
       " 'transition': 77,\n",
       " 'reutersipsos': 77,\n",
       " 'close': 77,\n",
       " 'protesters': 77,\n",
       " 'agencies': 77,\n",
       " 'offers': 76,\n",
       " 'gets': 76,\n",
       " 'home': 76,\n",
       " 'right': 76,\n",
       " 'program': 76,\n",
       " 'friday': 76,\n",
       " 'picks': 75,\n",
       " 'epa': 75,\n",
       " 'high': 75,\n",
       " 'elections': 75,\n",
       " 'emails': 75,\n",
       " 'kurds': 75,\n",
       " 'go': 75,\n",
       " 'voter': 75,\n",
       " 'troops': 75,\n",
       " 'arrested': 75,\n",
       " 'issue': 75,\n",
       " 'investigation': 75,\n",
       " 'allies': 74,\n",
       " 'use': 74,\n",
       " 'finance': 74,\n",
       " 'cabinet': 74,\n",
       " 'challenge': 74,\n",
       " 'press': 74,\n",
       " 'expects': 74,\n",
       " 'refugee': 73,\n",
       " 'jobs': 73,\n",
       " 'talk': 73,\n",
       " 'bangladesh': 73,\n",
       " 'appeals': 72,\n",
       " 'offer': 72,\n",
       " 'without': 72,\n",
       " 'sea': 72,\n",
       " 'carolina': 72,\n",
       " 'israeli': 72,\n",
       " 'sea': 72,\n",
       " 'percent': 71,\n",
       " 'criticism': 71,\n",
       " 'economic': 71,\n",
       " 'percent': 71,\n",
       " 'signs': 71,\n",
       " 'day': 71,\n",
       " 'criticism': 71,\n",
       " 'need': 71,\n",
       " 'philippine': 71,\n",
       " 'labor': 71,\n",
       " 'sessions': 71,\n",
       " 'social': 71,\n",
       " 'transgender': 70,\n",
       " 'future': 70,\n",
       " 'irish': 70,\n",
       " 'prosecutor': 70,\n",
       " 'voting': 70,\n",
       " 'chair': 70,\n",
       " 'conservative': 69,\n",
       " 'rubio': 69,\n",
       " 'stay': 69,\n",
       " 'overhaul': 69,\n",
       " 'early': 69,\n",
       " 'response': 69,\n",
       " 'deputy': 69,\n",
       " 'response': 69,\n",
       " 'overhaul': 69,\n",
       " 'shows': 69,\n",
       " 'fed': 69,\n",
       " 'king': 68,\n",
       " 'pact': 68,\n",
       " 'abe': 68,\n",
       " 'pact': 68,\n",
       " 'economy': 67,\n",
       " 'reforms': 67,\n",
       " 'libya': 67,\n",
       " 'graft': 67,\n",
       " 'five': 67,\n",
       " 'latest': 67,\n",
       " 'cnn': 67,\n",
       " 'mccain': 67,\n",
       " 'efforts': 66,\n",
       " 'migrants': 66,\n",
       " 'show': 66,\n",
       " 'qatar': 66,\n",
       " 'ministry': 66,\n",
       " 'hacking': 66,\n",
       " 'conservatives': 66,\n",
       " 'hit': 66,\n",
       " 'major': 65,\n",
       " 'highlights': 65,\n",
       " 'terrorism': 65,\n",
       " 'questions': 65,\n",
       " 'chairman': 65,\n",
       " 'tensions': 65,\n",
       " 'way': 65,\n",
       " 'staff': 65,\n",
       " 'parties': 64,\n",
       " 'money': 64,\n",
       " 'woman': 64,\n",
       " 'progress': 64,\n",
       " 'hits': 64,\n",
       " 'tuesday': 64,\n",
       " 'jailed': 64,\n",
       " 'region': 64,\n",
       " 'mexican': 64,\n",
       " 'mcconnell': 64,\n",
       " 'market': 63,\n",
       " 'free': 63,\n",
       " 'moves': 63,\n",
       " 'video': 63,\n",
       " 'spanish': 63,\n",
       " 'global': 63,\n",
       " 'watchdog': 63,\n",
       " 'weapons': 63,\n",
       " 'comments': 63,\n",
       " 'australian': 63,\n",
       " 'eyes': 63,\n",
       " 'behind': 63,\n",
       " 'sudan': 62,\n",
       " 'financial': 62,\n",
       " 'times': 62,\n",
       " 'allegations': 62,\n",
       " 'funds': 62,\n",
       " 'vietnam': 62,\n",
       " 'crackdown': 62,\n",
       " 'changes': 62,\n",
       " 'condemns': 62,\n",
       " 'soon': 62,\n",
       " 'thursday': 62,\n",
       " 'names': 62,\n",
       " 'dispute': 61,\n",
       " 'congressional': 61,\n",
       " 'johnson': 61,\n",
       " 'farright': 61,\n",
       " 'arrests': 61,\n",
       " 'zealand': 61,\n",
       " 'access': 61,\n",
       " 'step': 61,\n",
       " 'soldiers': 61,\n",
       " 'pay': 61,\n",
       " 'concerned': 60,\n",
       " '2016': 60,\n",
       " 'concerns': 60,\n",
       " 'reuters': 60,\n",
       " 'days': 60,\n",
       " 'meets': 60,\n",
       " 'spy': 60,\n",
       " 'strong': 60,\n",
       " 'steps': 60,\n",
       " 'duterte': 60,\n",
       " 'mnuchin': 60,\n",
       " 'thousands': 60,\n",
       " 'appeal': 59,\n",
       " 'poland': 59,\n",
       " 'tough': 59,\n",
       " 'reelection': 59,\n",
       " 'rebels': 59,\n",
       " 'public': 59,\n",
       " 'job': 59,\n",
       " 'reach': 58,\n",
       " 'confirms': 58,\n",
       " 'give': 58,\n",
       " 'palestinian': 58,\n",
       " 'libyan': 58,\n",
       " 'drug': 58,\n",
       " 'confirms': 58,\n",
       " 'militant': 57,\n",
       " 'netanyahu': 57,\n",
       " 'request': 57,\n",
       " 'probes': 57,\n",
       " 'due': 57,\n",
       " 'fraud': 57,\n",
       " 'workers': 57,\n",
       " 'good': 57,\n",
       " 'hearing': 57,\n",
       " 'children': 57,\n",
       " 'car': 57,\n",
       " 'accuses': 57,\n",
       " 'found': 57,\n",
       " 'america': 56,\n",
       " 'sets': 56,\n",
       " 'vice': 56,\n",
       " 'makes': 56,\n",
       " 'detained': 56,\n",
       " 'street': 56,\n",
       " 'launch': 56,\n",
       " 'prince': 56,\n",
       " 'act': 56,\n",
       " 'effort': 56,\n",
       " 'gives': 56,\n",
       " 'targets': 56,\n",
       " 'target': 56,\n",
       " 'members': 56,\n",
       " 'six': 55,\n",
       " 'muslim': 55,\n",
       " 'son': 55,\n",
       " 'stance': 55,\n",
       " 'corporate': 55,\n",
       " 'african': 55,\n",
       " 'suspect': 55,\n",
       " 'second': 55,\n",
       " 'testify': 55,\n",
       " 'supporters': 55,\n",
       " 'muslim': 55,\n",
       " 'council': 54,\n",
       " 'country': 54,\n",
       " 'human': 54,\n",
       " 'ceo': 54,\n",
       " 'executive': 54,\n",
       " 'migrant': 53,\n",
       " 'firm': 53,\n",
       " 'focus': 53,\n",
       " 'resign': 53,\n",
       " 'cites': 53,\n",
       " 'family': 53,\n",
       " 'diplomat': 53,\n",
       " 'united': 52,\n",
       " 'fox': 52,\n",
       " 'west': 52,\n",
       " 'threatens': 52,\n",
       " 'facebook': 52,\n",
       " 'missing': 52,\n",
       " 'pass': 52,\n",
       " 'unity': 51,\n",
       " 'ask': 51,\n",
       " 'peru': 51,\n",
       " 'activists': 51,\n",
       " 'ally': 51,\n",
       " 'search': 51,\n",
       " 'visa': 51,\n",
       " 'biden': 51,\n",
       " 'avoid': 51,\n",
       " 'deadly': 51,\n",
       " 'diplomatic': 51,\n",
       " 'cooperation': 51,\n",
       " 'zika': 51,\n",
       " 'leads': 50,\n",
       " 'central': 50,\n",
       " 'scandal': 50,\n",
       " 'ny': 50,\n",
       " 'nigeria': 50,\n",
       " 'shooting': 50,\n",
       " 'virginia': 50,\n",
       " 'firms': 50,\n",
       " 'join': 50,\n",
       " 'airport': 50,\n",
       " 'middle': 50,\n",
       " 'clash': 50,\n",
       " 'navy': 49,\n",
       " 'many': 49,\n",
       " 'looms': 49,\n",
       " 'delay': 49,\n",
       " 'raise': 49,\n",
       " 'convention': 49,\n",
       " 'activist': 49,\n",
       " 'hurt': 49,\n",
       " 'no': 49,\n",
       " 'options': 49,\n",
       " 'dialogue': 49,\n",
       " 'april': 49,\n",
       " 'break': 49,\n",
       " 'yet': 48,\n",
       " 'service': 48,\n",
       " 'indonesia': 48,\n",
       " 'manafort': 48,\n",
       " 'charge': 48,\n",
       " 'raqqa': 48,\n",
       " 'killing': 48,\n",
       " 'interview': 48,\n",
       " 'pledges': 48,\n",
       " 'consider': 48,\n",
       " 'fix': 48,\n",
       " 'legislation': 48,\n",
       " 'colombia': 48,\n",
       " '10': 48,\n",
       " 'journalist': 48,\n",
       " 'fuel': 48,\n",
       " 'ethics': 48,\n",
       " 'returns': 48,\n",
       " 'jail': 48,\n",
       " 'expected': 48,\n",
       " 'prime': 48,\n",
       " 'aides': 47,\n",
       " 'agenda': 47,\n",
       " 'fund': 47,\n",
       " 'considering': 47,\n",
       " 'lavrov': 47,\n",
       " 'blasts': 47,\n",
       " 'suspends': 47,\n",
       " 'taxes': 47,\n",
       " 'cambodia': 47,\n",
       " 'ends': 47,\n",
       " 'american': 47,\n",
       " 'system': 47,\n",
       " 'working': 47,\n",
       " 'commission': 47,\n",
       " 'gas': 46,\n",
       " 'indian': 46,\n",
       " 'experts': 46,\n",
       " 'resigns': 46,\n",
       " 'kerry': 46,\n",
       " 'coal': 46,\n",
       " 'monday': 46,\n",
       " 'lawsuit': 46,\n",
       " '2': 46,\n",
       " 'draws': 46,\n",
       " 'part': 46,\n",
       " 'aims': 46,\n",
       " 'others': 46,\n",
       " 'points': 46,\n",
       " 'potential': 46,\n",
       " 'union': 45,\n",
       " 'nominate': 45,\n",
       " 'vp': 45,\n",
       " 'islamist': 45,\n",
       " 'leaves': 45,\n",
       " 'tweet': 45,\n",
       " 'situation': 45,\n",
       " 'proposal': 45,\n",
       " 'full': 45,\n",
       " 'abortion': 45,\n",
       " 'policies': 45,\n",
       " 'congo': 45,\n",
       " 'eastern': 45,\n",
       " 'risk': 45,\n",
       " 'board': 45,\n",
       " 'industry': 45,\n",
       " '15': 45,\n",
       " 'emergency': 45,\n",
       " 'regional': 45,\n",
       " 'demands': 45,\n",
       " 'cia': 45,\n",
       " 'line': 45,\n",
       " 'prison': 45,\n",
       " 'thai': 44,\n",
       " 'alabama': 44,\n",
       " 'opens': 44,\n",
       " 'list': 44,\n",
       " 'remain': 44,\n",
       " 'assad': 44,\n",
       " 'quits': 44,\n",
       " 'austria': 44,\n",
       " 'companies': 44,\n",
       " 'green': 44,\n",
       " 'quake': 44,\n",
       " 'black': 44,\n",
       " 'counsel': 44,\n",
       " 'beijing': 44,\n",
       " 'european': 44,\n",
       " 'toward': 44,\n",
       " 'opposes': 44,\n",
       " 'electoral': 44,\n",
       " 'seven': 44,\n",
       " 'visits': 44,\n",
       " 'muslims': 44,\n",
       " 'remains': 44,\n",
       " 'deals': 44,\n",
       " 'jr': 44,\n",
       " 'fighting': 44,\n",
       " 'school': 44,\n",
       " 'limit': 43,\n",
       " 'protect': 43,\n",
       " 'data': 43,\n",
       " 'politics': 43,\n",
       " 'agrees': 43,\n",
       " 'dept': 43,\n",
       " 'address': 43,\n",
       " 'exit': 43,\n",
       " 'proposes': 43,\n",
       " 'december': 43,\n",
       " 'antitrump': 43,\n",
       " 'university': 43,\n",
       " 'ohio': 43,\n",
       " 'planned': 43,\n",
       " 'raises': 43,\n",
       " 'committed': 43,\n",
       " 'asylum': 43,\n",
       " 'iranian': 43,\n",
       " 'very': 43,\n",
       " 'continue': 43,\n",
       " 'drops': 43,\n",
       " 'blast': 43,\n",
       " 'launches': 43,\n",
       " 'evidence': 42,\n",
       " 'sec': 42,\n",
       " 'quit': 42,\n",
       " 'international': 42,\n",
       " 'civil': 42,\n",
       " 'find': 42,\n",
       " 'crimes': 42,\n",
       " 'seeking': 42,\n",
       " 'charged': 42,\n",
       " 'puts': 42,\n",
       " 'abuse': 42,\n",
       " 'sue': 42,\n",
       " 'zuma': 42,\n",
       " 'polls': 42,\n",
       " 'remarks': 42,\n",
       " 'town': 42,\n",
       " 'term': 42,\n",
       " 'criticizes': 42,\n",
       " 'nomination': 42,\n",
       " 'journalists': 42,\n",
       " 'another': 42,\n",
       " 'kenyan': 42,\n",
       " 'illegal': 42,\n",
       " 'strategy': 42,\n",
       " 'argentina': 42,\n",
       " 'hopeful': 41,\n",
       " 'christie': 41,\n",
       " 'shutdown': 41,\n",
       " 'far': 41,\n",
       " 'among': 41,\n",
       " 'aim': 41,\n",
       " 'price': 41,\n",
       " 'coast': 41,\n",
       " '1': 41,\n",
       " 'diplomats': 41,\n",
       " 'accused': 41,\n",
       " 'confident': 41,\n",
       " 'nyt': 41,\n",
       " 'documents': 41,\n",
       " 'jersey': 41,\n",
       " 'made': 41,\n",
       " 'told': 41,\n",
       " 'resignation': 41,\n",
       " 'swiss': 41,\n",
       " 'wednesday': 41,\n",
       " 'draft': 41,\n",
       " 'clear': 41,\n",
       " 'threats': 41,\n",
       " 'welcomes': 41,\n",
       " 'nations': 41,\n",
       " 'blocks': 41,\n",
       " 'put': 41,\n",
       " 'tpp': 40,\n",
       " 'promises': 40,\n",
       " 'conflict': 40,\n",
       " 'congressman': 40,\n",
       " 'lebanese': 40,\n",
       " 'veto': 40,\n",
       " 'weighs': 40,\n",
       " 'allow': 40,\n",
       " 'juncker': 40,\n",
       " 'measures': 40,\n",
       " 'somalia': 40,\n",
       " 'body': 40,\n",
       " 'heads': 40,\n",
       " '’': 40,\n",
       " 'murder': 40,\n",
       " 'insurance': 40,\n",
       " 'challenges': 39,\n",
       " 'kushner': 39,\n",
       " '20': 39,\n",
       " 'links': 39,\n",
       " '2017': 39,\n",
       " 'flights': 39,\n",
       " 'fear': 39,\n",
       " 'ousted': 39,\n",
       " 'chicago': 39,\n",
       " 'peninsula': 39,\n",
       " 'kurdistan': 39,\n",
       " 'chicago': 39,\n",
       " 'kushner': 39,\n",
       " 'toll': 39,\n",
       " 'ousted': 39,\n",
       " 'finds': 39,\n",
       " 'hezbollah': 39,\n",
       " 'western': 39,\n",
       " 'usbacked': 39,\n",
       " 'intel': 39,\n",
       " 'train': 39,\n",
       " 'hope': 39,\n",
       " 'toll': 39,\n",
       " 'tests': 39,\n",
       " 'rate': 38,\n",
       " 'fighters': 38,\n",
       " '11': 38,\n",
       " 'tech': 38,\n",
       " 'worker': 38,\n",
       " 'kirkuk': 38,\n",
       " 'try': 38,\n",
       " 'czech': 38,\n",
       " 'withdrawal': 38,\n",
       " 'water': 38,\n",
       " 'laws': 38,\n",
       " 'relief': 38,\n",
       " 'singapore': 38,\n",
       " 'comment': 38,\n",
       " 'austrian': 38,\n",
       " 'consumer': 38,\n",
       " 'choice': 38,\n",
       " 'dismisses': 38,\n",
       " 'path': 38,\n",
       " 'bipartisan': 37,\n",
       " 'information': 37,\n",
       " 'since': 37,\n",
       " 'come': 37,\n",
       " 'trying': 37,\n",
       " 'halt': 37,\n",
       " 'away': 37,\n",
       " 'looks': 37,\n",
       " 'watch': 37,\n",
       " 'supports': 37,\n",
       " 'september': 37,\n",
       " 'mueller': 37,\n",
       " 'proposed': 37,\n",
       " 'bush': 37,\n",
       " 'pipeline': 37,\n",
       " 'testimony': 37,\n",
       " 'relations': 37,\n",
       " 'details': 37,\n",
       " 'secret': 37,\n",
       " 'long': 37,\n",
       " 'raid': 37,\n",
       " 'gains': 37,\n",
       " 'agreement': 37,\n",
       " 'commerce': 37,\n",
       " 'meddling': 37,\n",
       " 'guilty': 37,\n",
       " 'better': 37,\n",
       " 'outside': 37,\n",
       " 'drop': 37,\n",
       " 'unlikely': 37,\n",
       " 'needed': 37,\n",
       " 'resume': 37,\n",
       " 'homeland': 36,\n",
       " 'ads': 36,\n",
       " 'process': 36,\n",
       " 'missiles': 36,\n",
       " 'within': 36,\n",
       " 'life': 36,\n",
       " 'station': 36,\n",
       " 'education': 36,\n",
       " 'freedom': 36,\n",
       " 'interior': 36,\n",
       " 'propose': 36,\n",
       " 'sex': 36,\n",
       " 'letter': 36,\n",
       " 'delays': 36,\n",
       " 'pushes': 36,\n",
       " 'slams': 36,\n",
       " 'detains': 36,\n",
       " 'not': 36,\n",
       " 'around': 36,\n",
       " 'record': 36,\n",
       " 'gmt': 36,\n",
       " 'malaysia': 36,\n",
       " 'attend': 36,\n",
       " 'michigan': 36,\n",
       " 'row': 35,\n",
       " 'private': 35,\n",
       " 'discussed': 35,\n",
       " 'pennsylvania': 35,\n",
       " 'host': 35,\n",
       " 'nine': 35,\n",
       " 'conference': 35,\n",
       " 'prosecutors': 35,\n",
       " 'endorses': 35,\n",
       " 'food': 35,\n",
       " 'backing': 35,\n",
       " 'daily': 35,\n",
       " 'chemical': 35,\n",
       " 'baghdad': 35,\n",
       " 'hong': 35,\n",
       " 'decide': 35,\n",
       " 'fired': 35,\n",
       " 'kong': 35,\n",
       " 'increase': 35,\n",
       " 'leadership': 35,\n",
       " 'months': 35,\n",
       " 'curb': 35,\n",
       " 'relationship': 35,\n",
       " 'indonesian': 35,\n",
       " 'presses': 34,\n",
       " 'billionaire': 34,\n",
       " 'countries': 34,\n",
       " 'alleged': 34,\n",
       " 'civilians': 34,\n",
       " 'pension': 34,\n",
       " 'fires': 34,\n",
       " 'deir': 34,\n",
       " 'limits': 34,\n",
       " 'infrastructure': 34,\n",
       " 'impact': 34,\n",
       " 'deadline': 34,\n",
       " 'cities': 34,\n",
       " 'maduro': 34,\n",
       " 'injured': 34,\n",
       " 'kim': 34,\n",
       " 'local': 34,\n",
       " 'road': 34,\n",
       " 'camp': 34,\n",
       " 'fake': 34,\n",
       " 'held': 34,\n",
       " 'alzor': 34,\n",
       " 'starts': 34,\n",
       " 'send': 34,\n",
       " 'red': 34,\n",
       " 'declares': 34,\n",
       " 'firing': 34,\n",
       " 'tweets': 34,\n",
       " 'shot': 34,\n",
       " 'fears': 34,\n",
       " 'claim': 34,\n",
       " 'spd': 34,\n",
       " 'men': 34,\n",
       " 'thailand': 33,\n",
       " 'releases': 33,\n",
       " 'interest': 33,\n",
       " 'ifax': 33,\n",
       " 'defend': 33,\n",
       " ...}"
      ]
     },
     "execution_count": 31,
     "metadata": {},
     "output_type": "execute_result"
    }
   ],
   "source": [
    "real_rows = news.loc[news['label'] == 'Real']\n",
    "real_copy = real_rows.copy()\n",
    "\n",
    "real_rows['title_lemma_real']=real_copy.title_cleaned.apply(lambda x : lemma_words(x))\n",
    "real_title_freq = pd.Series(' '.join(real_rows.title_lemma_real).split()).value_counts()\n",
    "real_title_dict = real_title_freq.to_dict()\n",
    "real_title_dict"
   ]
  },
  {
   "cell_type": "markdown",
   "metadata": {},
   "source": [
    "### Wordcloud"
   ]
  },
  {
   "cell_type": "code",
   "execution_count": 32,
   "metadata": {
    "scrolled": true
   },
   "outputs": [
    {
     "data": {
      "image/png": "[encoded data removed]",
      "text/plain": [
       "<Figure size 432x288 with 1 Axes>"
      ]
     },
     "metadata": {
      "needs_background": "light"
     },
     "output_type": "display_data"
    },
    {
     "data": {
      "text/plain": [
       "<wordcloud.wordcloud.WordCloud at 0x238cc10b040>"
      ]
     },
     "execution_count": 32,
     "metadata": {},
     "output_type": "execute_result"
    }
   ],
   "source": [
    "wordcloud_fake = WordCloud(background_color=\"white\").generate_from_frequencies(fake_title_dict)\n",
    "plt.imshow(wordcloud_fake, interpolation='bilinear')\n",
    "plt.axis(\"off\")\n",
    "plt.show()\n",
    "wordcloud_fake.to_file(\"img/faketitles_review.png\")"
   ]
  },
  {
   "cell_type": "code",
   "execution_count": 33,
   "metadata": {},
   "outputs": [
    {
     "data": {
      "image/png": "[encoded data removed]",
      "text/plain": [
       "<Figure size 432x288 with 1 Axes>"
      ]
     },
     "metadata": {
      "needs_background": "light"
     },
     "output_type": "display_data"
    },
    {
     "data": {
      "text/plain": [
       "<wordcloud.wordcloud.WordCloud at 0x238e783bdc0>"
      ]
     },
     "execution_count": 33,
     "metadata": {},
     "output_type": "execute_result"
    }
   ],
   "source": [
    "wordcloud_real = WordCloud(background_color=\"white\").generate_from_frequencies(real_title_dict)\n",
    "plt.imshow(wordcloud_real, interpolation='bilinear')\n",
    "plt.axis(\"off\")\n",
    "plt.show()\n",
    "wordcloud_real.to_file(\"img/realtitles_review.png\")"
   ]
  },
  {
   "cell_type": "markdown",
   "metadata": {},
   "source": [
    "## Training a model with Descision Tree Classifier"
   ]
  },
  {
   "cell_type": "code",
   "execution_count": 34,
   "metadata": {},
   "outputs": [],
   "source": [
    "stemmer = nltk.PorterStemmer()\n",
    "def clean_text(text):\n",
    "    text = \"\".join([word.lower() for word in text if word not in string.punctuation])\n",
    "    tokens = re.split('\\W+', text)\n",
    "    text = [stemmer.stem(word) for word in tokens if word not in stopwords]\n",
    "    return text"
   ]
  },
  {
   "cell_type": "code",
   "execution_count": 35,
   "metadata": {},
   "outputs": [],
   "source": [
    "X=news[['text', 'title']]\n",
    "y=news['label']    "
   ]
  },
  {
   "cell_type": "markdown",
   "metadata": {},
   "source": [
    "### Vectorizing with CountVectorizer\n",
    "To use Descision Tree and Random Forest classifiers we need to convert text data into numerical data.\n",
    "CountVectorizer converts a collection of text documents to matrix of token counts. https://scikit-learn.org/stable/modules/generated/sklearn.feature_extraction.text.CountVectorizer.html . We only have to set a limitation to max_features since otherwise we will run out of memory."
   ]
  },
  {
   "cell_type": "code",
   "execution_count": 36,
   "metadata": {},
   "outputs": [
    {
     "data": {
      "text/plain": [
       "matrix([[0, 0, 2, ..., 0, 0, 0],\n",
       "        [0, 0, 0, ..., 0, 0, 0],\n",
       "        [0, 0, 0, ..., 0, 0, 0],\n",
       "        ...,\n",
       "        [0, 0, 0, ..., 0, 0, 0],\n",
       "        [0, 0, 0, ..., 0, 0, 0],\n",
       "        [0, 0, 0, ..., 0, 0, 0]], dtype=int64)"
      ]
     },
     "execution_count": 36,
     "metadata": {},
     "output_type": "execute_result"
    }
   ],
   "source": [
    "from sklearn.feature_extraction.text import CountVectorizer\n",
    "CountVec = CountVectorizer(max_features=5000)\n",
    "News_text = CountVec.fit_transform(X['text']).todense()\n",
    "\n",
    "News_text"
   ]
  },
  {
   "cell_type": "code",
   "execution_count": 37,
   "metadata": {},
   "outputs": [
    {
     "data": {
      "text/plain": [
       "matrix([[0, 0, 0, ..., 0, 0, 0],\n",
       "        [0, 0, 0, ..., 0, 0, 0],\n",
       "        [0, 0, 0, ..., 0, 0, 0],\n",
       "        ...,\n",
       "        [0, 0, 0, ..., 0, 0, 0],\n",
       "        [0, 0, 0, ..., 0, 0, 0],\n",
       "        [0, 0, 0, ..., 0, 0, 0]], dtype=int64)"
      ]
     },
     "execution_count": 37,
     "metadata": {},
     "output_type": "execute_result"
    }
   ],
   "source": [
    "News_title = CountVec.fit_transform(X['title']).todense()\n",
    "\n",
    "News_title"
   ]
  },
  {
   "cell_type": "markdown",
   "metadata": {},
   "source": [
    "###  Stacking the arrays column wise.\n",
    "https://numpy.org/doc/stable/reference/generated/numpy.hstack.html"
   ]
  },
  {
   "cell_type": "code",
   "execution_count": 38,
   "metadata": {},
   "outputs": [],
   "source": [
    "X_mat = np.hstack(( News_text, News_title))"
   ]
  },
  {
   "cell_type": "markdown",
   "metadata": {},
   "source": [
    "### Creating test and train data "
   ]
  },
  {
   "cell_type": "code",
   "execution_count": 39,
   "metadata": {},
   "outputs": [],
   "source": [
    "from sklearn.model_selection import train_test_split\n",
    "X_train, X_test, y_train, y_test = train_test_split(X_mat,y, test_size=0.4, random_state=42)"
   ]
  },
  {
   "cell_type": "markdown",
   "metadata": {},
   "source": [
    "### Decision Tree Classsifier"
   ]
  },
  {
   "cell_type": "code",
   "execution_count": 40,
   "metadata": {},
   "outputs": [],
   "source": [
    "from sklearn.tree import DecisionTreeClassifier\n",
    "dtc = DecisionTreeClassifier(criterion='entropy')\n",
    "dtc.fit(X_train, y_train)\n",
    "y_pred=dtc.predict(X_test)"
   ]
  },
  {
   "cell_type": "code",
   "execution_count": 48,
   "metadata": {},
   "outputs": [
    {
     "data": {
      "text/plain": [
       "<matplotlib.axes._subplots.AxesSubplot at 0x238e7939a00>"
      ]
     },
     "execution_count": 48,
     "metadata": {},
     "output_type": "execute_result"
    },
    {
     "data": {
      "image/png": "[encoded data removed]",
      "text/plain": [
       "<Figure size 432x288 with 2 Axes>"
      ]
     },
     "metadata": {
      "needs_background": "light"
     },
     "output_type": "display_data"
    }
   ],
   "source": [
    "from sklearn.metrics import confusion_matrix\n",
    "con_mat=confusion_matrix(y_test, y_pred)\n",
    "sns.heatmap(con_mat,annot=True,linecolor=\"white\",fmt='' , xticklabels = ['Fake','True'] , yticklabels = ['Fake','True'])\n",
    "plt.title(\"Descision Tree Classifer with CountVectorizer\")\n",
    "plt.xlabel(\"Predicted Label\")\n",
    "plt.ylabel(\"Actual Label\")\n",
    "plt.show()"
   ]
  },
  {
   "cell_type": "code",
   "execution_count": 42,
   "metadata": {},
   "outputs": [
    {
     "data": {
      "text/plain": [
       "0.9789658661270568"
      ]
     },
     "execution_count": 42,
     "metadata": {},
     "output_type": "execute_result"
    }
   ],
   "source": [
    "from sklearn.metrics import accuracy_score\n",
    "accuracy_score(y_test, y_pred)"
   ]
  },
  {
   "cell_type": "markdown",
   "metadata": {},
   "source": [
    "### Random Forest Classifier"
   ]
  },
  {
   "cell_type": "code",
   "execution_count": 46,
   "metadata": {},
   "outputs": [],
   "source": [
    "from sklearn.ensemble import RandomForestClassifier\n",
    "rf = RandomForestClassifier()\n",
    "rf.fit(X_train,y_train)\n",
    "y_pred = rf.predict(X_test)\n",
    "acc = accuracy_score(y_test,y_pred)"
   ]
  },
  {
   "cell_type": "code",
   "execution_count": 49,
   "metadata": {},
   "outputs": [
    {
     "data": {
      "text/plain": [
       "<matplotlib.axes._subplots.AxesSubplot at 0x238e8514a30>"
      ]
     },
     "execution_count": 49,
     "metadata": {},
     "output_type": "execute_result"
    },
    {
     "data": {
      "image/png": "[encoded data removed]",
      "text/plain": [
       "<Figure size 432x288 with 2 Axes>"
      ]
     },
     "metadata": {
      "needs_background": "light"
     },
     "output_type": "display_data"
    }
   ],
   "source": [
    "con_mat=confusion_matrix(y_test, y_pred)\n",
    "sns.heatmap(con_mat,annot=True,linecolor=\"white\",fmt='' , xticklabels = ['Fake','True'] , yticklabels = ['Fake','True'])\n",
    "plt.title(\"Random Forest Classifer with CountVectorizer\")\n",
    "plt.xlabel(\"Predicted Label\")\n",
    "plt.ylabel(\"Actual Label\")\n",
    "plt.show()"
   ]
  },
  {
   "cell_type": "code",
   "execution_count": 47,
   "metadata": {},
   "outputs": [
    {
     "data": {
      "text/plain": [
       "0.9837052026199478"
      ]
     },
     "execution_count": 47,
     "metadata": {},
     "output_type": "execute_result"
    }
   ],
   "source": [
    "acc"
   ]
  },
  {
   "cell_type": "markdown",
   "metadata": {},
   "source": [
    "\n",
    "\n",
    "### Vectorising with TfidfVectorizer\n"
   ]
  },
  {
   "cell_type": "markdown",
   "metadata": {},
   "source": [
    "We will take 3000 of real and 3000 of fake news instances for vectorising and training so we won't run out of memory."
   ]
  },
  {
   "cell_type": "code",
   "execution_count": 86,
   "metadata": {},
   "outputs": [
    {
     "data": {
      "text/plain": [
       "Real    3000\n",
       "Fake    3000\n",
       "Name: label, dtype: int64"
      ]
     },
     "execution_count": 86,
     "metadata": {},
     "output_type": "execute_result"
    }
   ],
   "source": [
    "\n",
    "fake_rows = news.loc[news['label'] == 'Fake']\n",
    "real_rows = news.loc[news['label'] == 'Real']\n",
    "news_for_modeling=pd.concat([fake_rows[:3000],real_rows[:3000]],ignore_index=True, sort=False) \n",
    "news_for_modeling['label'].value_counts()"
   ]
  },
  {
   "cell_type": "code",
   "execution_count": 87,
   "metadata": {},
   "outputs": [],
   "source": [
    "\n",
    "X=news_for_modeling[['text', 'title']]\n",
    "y=news_for_modeling['label']    \n",
    "\n",
    "X_train, X_test, y_train, y_test = train_test_split(X,y, test_size=0.4, random_state=42)"
   ]
  },
  {
   "cell_type": "code",
   "execution_count": 88,
   "metadata": {},
   "outputs": [
    {
     "data": {
      "text/html": [
       "<div>\n",
       "<style scoped>\n",
       "    .dataframe tbody tr th:only-of-type {\n",
       "        vertical-align: middle;\n",
       "    }\n",
       "\n",
       "    .dataframe tbody tr th {\n",
       "        vertical-align: top;\n",
       "    }\n",
       "\n",
       "    .dataframe thead th {\n",
       "        text-align: right;\n",
       "    }\n",
       "</style>\n",
       "<table border=\"1\" class=\"dataframe\">\n",
       "  <thead>\n",
       "    <tr style=\"text-align: right;\">\n",
       "      <th></th>\n",
       "      <th>0</th>\n",
       "      <th>1</th>\n",
       "      <th>2</th>\n",
       "      <th>3</th>\n",
       "      <th>4</th>\n",
       "      <th>5</th>\n",
       "      <th>6</th>\n",
       "      <th>7</th>\n",
       "      <th>8</th>\n",
       "      <th>9</th>\n",
       "      <th>...</th>\n",
       "      <th>6296</th>\n",
       "      <th>6297</th>\n",
       "      <th>6298</th>\n",
       "      <th>6299</th>\n",
       "      <th>6300</th>\n",
       "      <th>6301</th>\n",
       "      <th>6302</th>\n",
       "      <th>6303</th>\n",
       "      <th>6304</th>\n",
       "      <th>6305</th>\n",
       "    </tr>\n",
       "  </thead>\n",
       "  <tbody>\n",
       "    <tr>\n",
       "      <th>0</th>\n",
       "      <td>0.0</td>\n",
       "      <td>0.040300</td>\n",
       "      <td>0.0</td>\n",
       "      <td>0.0</td>\n",
       "      <td>0.0</td>\n",
       "      <td>0.0</td>\n",
       "      <td>0.000000</td>\n",
       "      <td>0.0</td>\n",
       "      <td>0.0</td>\n",
       "      <td>0.041606</td>\n",
       "      <td>...</td>\n",
       "      <td>0.0</td>\n",
       "      <td>0.0</td>\n",
       "      <td>0.0</td>\n",
       "      <td>0.0</td>\n",
       "      <td>0.0</td>\n",
       "      <td>0.0</td>\n",
       "      <td>0.0</td>\n",
       "      <td>0.000000</td>\n",
       "      <td>0.0</td>\n",
       "      <td>0.0</td>\n",
       "    </tr>\n",
       "    <tr>\n",
       "      <th>1</th>\n",
       "      <td>0.0</td>\n",
       "      <td>0.000000</td>\n",
       "      <td>0.0</td>\n",
       "      <td>0.0</td>\n",
       "      <td>0.0</td>\n",
       "      <td>0.0</td>\n",
       "      <td>0.000000</td>\n",
       "      <td>0.0</td>\n",
       "      <td>0.0</td>\n",
       "      <td>0.000000</td>\n",
       "      <td>...</td>\n",
       "      <td>0.0</td>\n",
       "      <td>0.0</td>\n",
       "      <td>0.0</td>\n",
       "      <td>0.0</td>\n",
       "      <td>0.0</td>\n",
       "      <td>0.0</td>\n",
       "      <td>0.0</td>\n",
       "      <td>0.371115</td>\n",
       "      <td>0.0</td>\n",
       "      <td>0.0</td>\n",
       "    </tr>\n",
       "    <tr>\n",
       "      <th>2</th>\n",
       "      <td>0.0</td>\n",
       "      <td>0.034648</td>\n",
       "      <td>0.0</td>\n",
       "      <td>0.0</td>\n",
       "      <td>0.0</td>\n",
       "      <td>0.0</td>\n",
       "      <td>0.035178</td>\n",
       "      <td>0.0</td>\n",
       "      <td>0.0</td>\n",
       "      <td>0.035771</td>\n",
       "      <td>...</td>\n",
       "      <td>0.0</td>\n",
       "      <td>0.0</td>\n",
       "      <td>0.0</td>\n",
       "      <td>0.0</td>\n",
       "      <td>0.0</td>\n",
       "      <td>0.0</td>\n",
       "      <td>0.0</td>\n",
       "      <td>0.000000</td>\n",
       "      <td>0.0</td>\n",
       "      <td>0.0</td>\n",
       "    </tr>\n",
       "    <tr>\n",
       "      <th>3</th>\n",
       "      <td>0.0</td>\n",
       "      <td>0.000000</td>\n",
       "      <td>0.0</td>\n",
       "      <td>0.0</td>\n",
       "      <td>0.0</td>\n",
       "      <td>0.0</td>\n",
       "      <td>0.000000</td>\n",
       "      <td>0.0</td>\n",
       "      <td>0.0</td>\n",
       "      <td>0.000000</td>\n",
       "      <td>...</td>\n",
       "      <td>0.0</td>\n",
       "      <td>0.0</td>\n",
       "      <td>0.0</td>\n",
       "      <td>0.0</td>\n",
       "      <td>0.0</td>\n",
       "      <td>0.0</td>\n",
       "      <td>0.0</td>\n",
       "      <td>0.000000</td>\n",
       "      <td>0.0</td>\n",
       "      <td>0.0</td>\n",
       "    </tr>\n",
       "    <tr>\n",
       "      <th>4</th>\n",
       "      <td>0.0</td>\n",
       "      <td>0.000000</td>\n",
       "      <td>0.0</td>\n",
       "      <td>0.0</td>\n",
       "      <td>0.0</td>\n",
       "      <td>0.0</td>\n",
       "      <td>0.000000</td>\n",
       "      <td>0.0</td>\n",
       "      <td>0.0</td>\n",
       "      <td>0.000000</td>\n",
       "      <td>...</td>\n",
       "      <td>0.0</td>\n",
       "      <td>0.0</td>\n",
       "      <td>0.0</td>\n",
       "      <td>0.0</td>\n",
       "      <td>0.0</td>\n",
       "      <td>0.0</td>\n",
       "      <td>0.0</td>\n",
       "      <td>0.000000</td>\n",
       "      <td>0.0</td>\n",
       "      <td>0.0</td>\n",
       "    </tr>\n",
       "  </tbody>\n",
       "</table>\n",
       "<p>5 rows × 12612 columns</p>\n",
       "</div>"
      ],
      "text/plain": [
       "   0         1     2     3     4     5         6     7     8         9     \\\n",
       "0   0.0  0.040300   0.0   0.0   0.0   0.0  0.000000   0.0   0.0  0.041606   \n",
       "1   0.0  0.000000   0.0   0.0   0.0   0.0  0.000000   0.0   0.0  0.000000   \n",
       "2   0.0  0.034648   0.0   0.0   0.0   0.0  0.035178   0.0   0.0  0.035771   \n",
       "3   0.0  0.000000   0.0   0.0   0.0   0.0  0.000000   0.0   0.0  0.000000   \n",
       "4   0.0  0.000000   0.0   0.0   0.0   0.0  0.000000   0.0   0.0  0.000000   \n",
       "\n",
       "   ...  6296  6297  6298  6299  6300  6301  6302      6303  6304  6305  \n",
       "0  ...   0.0   0.0   0.0   0.0   0.0   0.0   0.0  0.000000   0.0   0.0  \n",
       "1  ...   0.0   0.0   0.0   0.0   0.0   0.0   0.0  0.371115   0.0   0.0  \n",
       "2  ...   0.0   0.0   0.0   0.0   0.0   0.0   0.0  0.000000   0.0   0.0  \n",
       "3  ...   0.0   0.0   0.0   0.0   0.0   0.0   0.0  0.000000   0.0   0.0  \n",
       "4  ...   0.0   0.0   0.0   0.0   0.0   0.0   0.0  0.000000   0.0   0.0  \n",
       "\n",
       "[5 rows x 12612 columns]"
      ]
     },
     "execution_count": 88,
     "metadata": {},
     "output_type": "execute_result"
    }
   ],
   "source": [
    "from sklearn.feature_extraction.text import TfidfVectorizer\n",
    "\n",
    "\n",
    "tfidf_vect = TfidfVectorizer()\n",
    "vect_fit =tfidf_vect.fit(X_train['text'])\n",
    "vect_fit_title=tfidf_vect.fit(X_train['title'])\n",
    "\n",
    "tfidf_train = vect_fit.transform(X_train['text'])\n",
    "tfidf_test = vect_fit.transform(X_test['text'])\n",
    "\n",
    "tfidf_train_title = vect_fit_title.transform(X_train['title'])\n",
    "tfidf_test_title = vect_fit_title.transform(X_test['title'])\n",
    "\n",
    "X_train_vect = pd.concat([pd.DataFrame(tfidf_train.toarray()),pd.DataFrame(tfidf_train_title.toarray())], axis=1)\n",
    "X_test_vect =pd.concat([pd.DataFrame(tfidf_test.toarray()),pd.DataFrame(tfidf_test_title.toarray())], axis=1)\n",
    "\n",
    "X_train_vect.head()"
   ]
  },
  {
   "cell_type": "markdown",
   "metadata": {},
   "source": [
    "### Random Forest Classifier"
   ]
  },
  {
   "cell_type": "code",
   "execution_count": 89,
   "metadata": {},
   "outputs": [
    {
     "data": {
      "text/plain": [
       "0.9975"
      ]
     },
     "execution_count": 89,
     "metadata": {},
     "output_type": "execute_result"
    }
   ],
   "source": [
    "rf = RandomForestClassifier()\n",
    "\n",
    "rf_model = rf.fit(X_train_vect, y_train)\n",
    "\n",
    "y_pred = rf_model.predict(X_test_vect)\n",
    "\n",
    "accuracy_score(y_test,y_pred)"
   ]
  },
  {
   "cell_type": "code",
   "execution_count": 90,
   "metadata": {},
   "outputs": [
    {
     "data": {
      "image/png": "[encoded data removed]",
      "text/plain": [
       "<Figure size 432x288 with 2 Axes>"
      ]
     },
     "metadata": {
      "needs_background": "light"
     },
     "output_type": "display_data"
    }
   ],
   "source": [
    "cm = confusion_matrix(y_test, y_pred)\n",
    "sns.heatmap(cm, annot=True, fmt='d', xticklabels = ['Fake','True'] , yticklabels = ['Fake','True'])\n",
    "plt.title(\"Confusion Matrix\")\n",
    "plt.xlabel(\"Predicted Label\")\n",
    "plt.ylabel(\"Actual Label\")\n",
    "plt.show()"
   ]
  },
  {
   "cell_type": "markdown",
   "metadata": {},
   "source": [
    "### Descision Tree Classifier"
   ]
  },
  {
   "cell_type": "code",
   "execution_count": 91,
   "metadata": {},
   "outputs": [
    {
     "data": {
      "text/plain": [
       "0.9945833333333334"
      ]
     },
     "execution_count": 91,
     "metadata": {},
     "output_type": "execute_result"
    }
   ],
   "source": [
    "descision_tree = DecisionTreeClassifier(criterion='entropy')\n",
    "descision_tree_model=descision_tree.fit(X_train_vect, y_train)\n",
    "y_pred=descision_tree_model.predict(X_test_vect)\n",
    "\n",
    "accuracy_score(y_test,y_pred)"
   ]
  },
  {
   "cell_type": "code",
   "execution_count": 92,
   "metadata": {},
   "outputs": [
    {
     "data": {
      "image/png": "[encoded data removed]",
      "text/plain": [
       "<Figure size 432x288 with 2 Axes>"
      ]
     },
     "metadata": {
      "needs_background": "light"
     },
     "output_type": "display_data"
    }
   ],
   "source": [
    "cm = confusion_matrix(y_test, y_pred)\n",
    "sns.heatmap(cm, annot=True, fmt='d', xticklabels = ['Fake','True'] , yticklabels = ['Fake','True'])\n",
    "plt.title(\"Confusion Matrix\")\n",
    "plt.xlabel(\"Predicted Label\")\n",
    "plt.ylabel(\"Actual Label\")\n",
    "plt.show()"
   ]
  }
 ],
 "metadata": {
  "kernelspec": {
   "display_name": "Python 3",
   "language": "python",
   "name": "python3"
  },
  "language_info": {
   "codemirror_mode": {
    "name": "ipython",
    "version": 3
   },
   "file_extension": ".py",
   "mimetype": "text/x-python",
   "name": "python",
   "nbconvert_exporter": "python",
   "pygments_lexer": "ipython3",
   "version": "3.8.3"
  }
 },
 "nbformat": 4,
 "nbformat_minor": 4
}
